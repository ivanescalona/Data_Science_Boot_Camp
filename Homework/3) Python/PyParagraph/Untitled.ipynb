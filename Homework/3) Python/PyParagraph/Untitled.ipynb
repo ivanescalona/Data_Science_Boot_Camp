{
 "cells": [
  {
   "cell_type": "code",
   "execution_count": null,
   "metadata": {},
   "outputs": [],
   "source": [
    "print(\"Howdy? Will you be analyzing a text file(1) or entering the text directly(2)?\")\n",
    "file_or_string = input(\"Enter your choice (1) or (2): \")"
   ]
  },
  {
   "cell_type": "code",
   "execution_count": 2,
   "metadata": {},
   "outputs": [],
   "source": [
    "def get_string_file(f_or_s, selection):\n",
    "    if selection == 1:\n",
    "        with open (f_or_s+'.txt', 'r') as file1:\n",
    "            data = file1.read()\n",
    "    else:\n",
    "        data = f_or_s\n",
    "    return data\n",
    "        "
   ]
  },
  {
   "cell_type": "code",
   "execution_count": 3,
   "metadata": {},
   "outputs": [
    {
     "name": "stdout",
     "output_type": "stream",
     "text": [
      "Please enter your text: This is my text\n"
     ]
    }
   ],
   "source": [
    "if (file_or_string == \"1\"):\n",
    "    file_name = input(\"Please enter your file name (don't include .txt): \")\n",
    "    data = get_string_file(file_name, 1)\n",
    "else:\n",
    "    my_string = input(\"Please enter your text: \")\n",
    "    data = get_string_file(my_string, 2)"
   ]
  },
  {
   "cell_type": "code",
   "execution_count": 5,
   "metadata": {},
   "outputs": [],
   "source": [
    "import re"
   ]
  },
  {
   "cell_type": "code",
   "execution_count": null,
   "metadata": {},
   "outputs": [],
   "source": []
  }
 ],
 "metadata": {
  "kernelspec": {
   "display_name": "Python 3",
   "language": "python",
   "name": "python3"
  },
  "language_info": {
   "codemirror_mode": {
    "name": "ipython",
    "version": 3
   },
   "file_extension": ".py",
   "mimetype": "text/x-python",
   "name": "python",
   "nbconvert_exporter": "python",
   "pygments_lexer": "ipython3",
   "version": "3.7.1"
  }
 },
 "nbformat": 4,
 "nbformat_minor": 2
}
