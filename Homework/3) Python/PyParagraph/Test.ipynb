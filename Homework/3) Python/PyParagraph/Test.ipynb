{
 "cells": [
  {
   "cell_type": "code",
   "execution_count": 90,
   "metadata": {},
   "outputs": [],
   "source": [
    "import re"
   ]
  },
  {
   "cell_type": "code",
   "execution_count": 109,
   "metadata": {
    "scrolled": true
   },
   "outputs": [
    {
     "data": {
      "text/plain": [
       "'When Jackie Chan saw an Oscar at Sylvester Stallone\\'s house 23 years ago, he said that was the moment he decided he wanted one.\\n\\nOn Saturday at the annual Governors Awards, the Chinese actor and martial arts star finally received his little gold statuette, an honorary Oscar for his decades of work in film.\\n\\n\"After 56 years in the film industry, making more than 200 films, after so many bones, finally,\" Chan, 62, quipped at the star-studded gala dinner while holding his Oscar.\\n\\nThe actor recalled watching the ceremony with his parents and his father always asking him why he didn\\'t have Hollywood\\'s top accolade despite having made so many movies.\\n\\nHe praised his hometown Hong Kong for making him \"proud to be Chinese,\" and thanked his fans, saying they were the reason \"I continue to make movies, jumping through windows, kicking and punching, breaking my bones.\"\\n\\nThe actor was introduced by his \"Rush Hour\" co-star Chris Tucker, actress Michelle Yeoh and Tom Hanks, who referred to him as \"Jackie \\'Chantastic\\' Chan.\"\\n\\nHanks said it was especially gratifying to be able to acknowledge Chan\\'s work because martial arts and action comedy films were two genres often overlooked during awards season.\\n\\nThe Academy of Motion Pictures Arts and Sciences, hosts of the annual ceremony, also bestowed honorary Oscars on British film editor Anne V. Coates, casting director Lynn Stalmaster and prolific documentarian Frederick Wiseman.\\n\\nThe evening was attended by Hollywood\\'s elite, including Denzel Washington, Lupita Nyong\\'o, Nicole Kidman, Emma Stone, Ryan Reynolds, Amy Adams and Dev Patel.\\n\\nStalmaster, 88, credited with securing career-defining roles for actors such as Jeff Bridges, Andy Garcia, Christopher Reeve and John Travolta, is the first casting director to receive an Oscar.'"
      ]
     },
     "execution_count": 109,
     "metadata": {},
     "output_type": "execute_result"
    }
   ],
   "source": [
    "with open ('paragraph_1.txt', 'r') as file1:\n",
    "    data1 = file1.read()\n",
    "\n",
    "with open ('paragraph_2.txt', 'r') as file1:\n",
    "    data2 = file1.read()\n",
    "    \n",
    "data2"
   ]
  },
  {
   "cell_type": "code",
   "execution_count": 110,
   "metadata": {},
   "outputs": [
    {
     "name": "stdout",
     "output_type": "stream",
     "text": [
      "[\"When Jackie Chan saw an Oscar at Sylvester Stallone's house 23 years ago, he said that was the moment he decided he wanted one\", 'On Saturday at the annual Governors Awards, the Chinese actor and martial arts star finally received his little gold statuette, an honorary Oscar for his decades of work in film', '\"After 56 years in the film industry, making more than 200 films, after so many bones, finally,\" Chan, 62, quipped at the star-studded gala dinner while holding his Oscar', \"The actor recalled watching the ceremony with his parents and his father always asking him why he didn't have Hollywood's top accolade despite having made so many movies\", 'He praised his hometown Hong Kong for making him \"proud to be Chinese,\" and thanked his fans, saying they were the reason \"I continue to make movies, jumping through windows, kicking and punching, breaking my bones.', 'The actor was introduced by his \"Rush Hour\" co-star Chris Tucker, actress Michelle Yeoh and Tom Hanks, who referred to him as \"Jackie \\'Chantastic\\' Chan.', \"Hanks said it was especially gratifying to be able to acknowledge Chan's work because martial arts and action comedy films were two genres often overlooked during awards season\", 'The Academy of Motion Pictures Arts and Sciences, hosts of the annual ceremony, also bestowed honorary Oscars on British film editor Anne V', 'Coates, casting director Lynn Stalmaster and prolific documentarian Frederick Wiseman', \"The evening was attended by Hollywood's elite, including Denzel Washington, Lupita Nyong'o, Nicole Kidman, Emma Stone, Ryan Reynolds, Amy Adams and Dev Patel\", 'Stalmaster, 88, credited with securing career-defining roles for actors such as Jeff Bridges, Andy Garcia, Christopher Reeve and John Travolta, is the first casting director to receive an Oscar.']\n",
      "11\n"
     ]
    }
   ],
   "source": [
    "#re.split('; |, |\\*|\\n',data2)\n",
    "\n",
    "sentences = re.split('\\. |\\n |\\n\\n |.\\n |.\\n\\n' ,data2)\n",
    "sen_count = len(sentences)\n",
    "\n",
    "print(sentences)\n",
    "print(len(sentences))"
   ]
  },
  {
   "cell_type": "code",
   "execution_count": null,
   "metadata": {},
   "outputs": [],
   "source": []
  },
  {
   "cell_type": "code",
   "execution_count": 111,
   "metadata": {},
   "outputs": [
    {
     "name": "stdout",
     "output_type": "stream",
     "text": [
      "25.91\n"
     ]
    }
   ],
   "source": [
    "sen_word_count = 0\n",
    "for sen in sentences:\n",
    "    current = sen.split()\n",
    "    sen_word_count += len(current)\n",
    "\n",
    "average_words = sen_word_count/sen_count\n",
    "print(\"{:.2f}\".format(average_words))"
   ]
  },
  {
   "cell_type": "code",
   "execution_count": 116,
   "metadata": {},
   "outputs": [
    {
     "name": "stdout",
     "output_type": "stream",
     "text": [
      "['When', 'Jackie', 'Chan', 'saw', 'an', 'Oscar', 'at', 'Sylvester', \"Stallone's\", 'house', 'years', 'ago', 'he', 'said', 'that', 'was', 'the', 'moment', 'he', 'decided', 'he', 'wanted', 'one', 'On', 'Saturday', 'at', 'the', 'annual', 'Governors', 'Awards', 'the', 'Chinese', 'actor', 'and', 'martial', 'arts', 'star', 'finally', 'received', 'his', 'little', 'gold', 'statuette', 'an', 'honorary', 'Oscar', 'for', 'his', 'decades', 'of', 'work', 'in', 'film', '\"After', 'years', 'in', 'the', 'film', 'industry', 'making', 'more', 'than', 'films', 'after', 'so', 'many', 'bones', 'finally\"', 'Chan', 'quipped', 'at', 'the', 'star-studded', 'gala', 'dinner', 'while', 'holding', 'his', 'Oscar', 'The', 'actor', 'recalled', 'watching', 'the', 'ceremony', 'with', 'his', 'parents', 'and', 'his', 'father', 'always', 'asking', 'him', 'why', 'he', \"didn't\", 'have', \"Hollywood's\", 'top', 'accolade', 'despite', 'having', 'made', 'so', 'many', 'movies', 'He', 'praised', 'his', 'hometown', 'Hong', 'Kong', 'for', 'making', 'him', '\"proud', 'to', 'be', 'Chinese\"', 'and', 'thanked', 'his', 'fans', 'saying', 'they', 'were', 'the', 'reason', '\"I', 'continue', 'to', 'make', 'movies', 'jumping', 'through', 'windows', 'kicking', 'and', 'punching', 'breaking', 'my', 'bones.', 'The', 'actor', 'was', 'introduced', 'by', 'his', '\"Rush', 'Hour\"', 'co-star', 'Chris', 'Tucker', 'actress', 'Michelle', 'Yeoh', 'and', 'Tom', 'Hanks', 'who', 'referred', 'to', 'him', 'as', '\"Jackie', \"'Chantastic'\", 'Chan.', 'Hanks', 'said', 'it', 'was', 'especially', 'gratifying', 'to', 'be', 'able', 'to', 'acknowledge', \"Chan's\", 'work', 'because', 'martial', 'arts', 'and', 'action', 'comedy', 'films', 'were', 'two', 'genres', 'often', 'overlooked', 'during', 'awards', 'season', 'The', 'Academy', 'of', 'Motion', 'Pictures', 'Arts', 'and', 'Sciences', 'hosts', 'of', 'the', 'annual', 'ceremony', 'also', 'bestowed', 'honorary', 'Oscars', 'on', 'British', 'film', 'editor', 'Anne', 'V', 'Coates', 'casting', 'director', 'Lynn', 'Stalmaster', 'and', 'prolific', 'documentarian', 'Frederick', 'Wiseman', 'The', 'evening', 'was', 'attended', 'by', \"Hollywood's\", 'elite', 'including', 'Denzel', 'Washington', 'Lupita', \"Nyong'o\", 'Nicole', 'Kidman', 'Emma', 'Stone', 'Ryan', 'Reynolds', 'Amy', 'Adams', 'and', 'Dev', 'Patel', 'Stalmaster', 'credited', 'with', 'securing', 'career-defining', 'roles', 'for', 'actors', 'such', 'as', 'Jeff', 'Bridges', 'Andy', 'Garcia', 'Christopher', 'Reeve', 'and', 'John', 'Travolta', 'is', 'the', 'first', 'casting', 'director', 'to', 'receive', 'an', 'Oscar.']\n",
      "280\n"
     ]
    }
   ],
   "source": [
    "words = []\n",
    "for sen in sentences:\n",
    "    current = re.sub('[0-9,]', '', sen)\n",
    "    current = current.split()\n",
    "    \n",
    "    for item in current:\n",
    "        words.append(item)\n",
    "\n",
    "word_count = len(words)\n",
    "print(words)\n",
    "print(word_count)"
   ]
  },
  {
   "cell_type": "code",
   "execution_count": 123,
   "metadata": {},
   "outputs": [
    {
     "name": "stdout",
     "output_type": "stream",
     "text": [
      "1423\n",
      "5.08\n"
     ]
    }
   ],
   "source": [
    "word_letter_count = 0\n",
    "i = 0\n",
    "for i in range(0,len(words)):\n",
    "    current_word = re.findall(\"[a-zA-Z]*\", words[i])\n",
    "    \n",
    "    for item in current_word:\n",
    "        word_letter_count += len(item)\n",
    "            \n",
    "average_letters = word_letter_count/word_count\n",
    "print(\"{:.2f}\".format(average_letters))"
   ]
  },
  {
   "cell_type": "code",
   "execution_count": null,
   "metadata": {},
   "outputs": [],
   "source": []
  },
  {
   "cell_type": "code",
   "execution_count": 8,
   "metadata": {},
   "outputs": [
    {
     "data": {
      "text/plain": [
       "'Gene expression in mammals is regulated by noncoding elements that can affect physiology and disease, yet the functions and target genes of most noncoding elements remain unknown. We present a high-throughput approach that uses clustered regularly interspaced short palindromic repeats (CRISPR) interference (CRISPRi) to discover regulatory elements and identify their target genes. We assess >1 megabase of sequence in the vicinity of two essential transcription factors, MYC and GATA1, and identify nine distal enhancers that control gene expression and cellular proliferation. Quantitative features of chromatin state and chromosome conformation distinguish the seven enhancers that regulate MYC from other elements that do not, suggesting a strategy for predicting enhancerâ€“promoter connectivity. This CRISPRi-based approach can be applied to dissect transcriptional networks and interpret the contributions of noncoding genetic variation to human disease.'"
      ]
     },
     "execution_count": 8,
     "metadata": {},
     "output_type": "execute_result"
    }
   ],
   "source": [
    "data1"
   ]
  },
  {
   "cell_type": "code",
   "execution_count": 9,
   "metadata": {},
   "outputs": [
    {
     "data": {
      "text/plain": [
       "'When Jackie Chan saw an Oscar at Sylvester Stallone\\'s house 23 years ago, he said that was the moment he decided he wanted one.\\n\\nOn Saturday at the annual Governors Awards, the Chinese actor and martial arts star finally received his little gold statuette, an honorary Oscar for his decades of work in film.\\n\\n\"After 56 years in the film industry, making more than 200 films, after so many bones, finally,\" Chan, 62, quipped at the star-studded gala dinner while holding his Oscar.\\n\\nThe actor recalled watching the ceremony with his parents and his father always asking him why he didn\\'t have Hollywood\\'s top accolade despite having made so many movies.\\n\\nHe praised his hometown Hong Kong for making him \"proud to be Chinese,\" and thanked his fans, saying they were the reason \"I continue to make movies, jumping through windows, kicking and punching, breaking my bones.\"\\n\\nThe actor was introduced by his \"Rush Hour\" co-star Chris Tucker, actress Michelle Yeoh and Tom Hanks, who referred to him as \"Jackie \\'Chantastic\\' Chan.\"\\n\\nHanks said it was especially gratifying to be able to acknowledge Chan\\'s work because martial arts and action comedy films were two genres often overlooked during awards season.\\n\\nThe Academy of Motion Pictures Arts and Sciences, hosts of the annual ceremony, also bestowed honorary Oscars on British film editor Anne V. Coates, casting director Lynn Stalmaster and prolific documentarian Frederick Wiseman.\\n\\nThe evening was attended by Hollywood\\'s elite, including Denzel Washington, Lupita Nyong\\'o, Nicole Kidman, Emma Stone, Ryan Reynolds, Amy Adams and Dev Patel.\\n\\nStalmaster, 88, credited with securing career-defining roles for actors such as Jeff Bridges, Andy Garcia, Christopher Reeve and John Travolta, is the first casting director to receive an Oscar.'"
      ]
     },
     "execution_count": 9,
     "metadata": {},
     "output_type": "execute_result"
    }
   ],
   "source": [
    "data2"
   ]
  },
  {
   "cell_type": "code",
   "execution_count": null,
   "metadata": {},
   "outputs": [],
   "source": []
  }
 ],
 "metadata": {
  "kernelspec": {
   "display_name": "Python 3",
   "language": "python",
   "name": "python3"
  },
  "language_info": {
   "codemirror_mode": {
    "name": "ipython",
    "version": 3
   },
   "file_extension": ".py",
   "mimetype": "text/x-python",
   "name": "python",
   "nbconvert_exporter": "python",
   "pygments_lexer": "ipython3",
   "version": "3.7.1"
  }
 },
 "nbformat": 4,
 "nbformat_minor": 2
}
