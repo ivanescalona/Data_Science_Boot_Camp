{
 "cells": [
  {
   "cell_type": "code",
   "execution_count": 26,
   "metadata": {},
   "outputs": [],
   "source": [
    "import csv"
   ]
  },
  {
   "cell_type": "code",
   "execution_count": 78,
   "metadata": {},
   "outputs": [],
   "source": [
    "employee_id = []\n",
    "full_name = []\n",
    "dob = []\n",
    "ssn = []\n",
    "state = []"
   ]
  },
  {
   "cell_type": "code",
   "execution_count": 79,
   "metadata": {},
   "outputs": [],
   "source": [
    "with open('employee_data.csv', 'r', newline = '') as csvfile:\n",
    "    csvreader = csv.reader(csvfile, delimiter=',')\n",
    "    for row in csvreader:\n",
    "        employee_id.append(row[0])\n",
    "        full_name.append(row[1])\n",
    "        dob.append(row[2])\n",
    "        ssn.append(row[3])\n",
    "        state.append(row[4])"
   ]
  },
  {
   "cell_type": "code",
   "execution_count": 85,
   "metadata": {},
   "outputs": [],
   "source": [
    "b = len(full_name)\n",
    "name = []\n",
    "lastname = []"
   ]
  },
  {
   "cell_type": "code",
   "execution_count": 157,
   "metadata": {},
   "outputs": [],
   "source": [
    "updated_name = ['Name', 'Lastname']\n",
    "for i in range(1,b):\n",
    "    current_name = []\n",
    "    current_name = ((str(full_name[i]).split()))\n",
    "    updated_name.append(current_name[0])\n",
    "    updated_name.append(current_name[1])"
   ]
  },
  {
   "cell_type": "code",
   "execution_count": 94,
   "metadata": {},
   "outputs": [],
   "source": [
    "# updated_name = ['Name', 'Lastname']\n",
    "# for i in range(1,b):\n",
    "#     jointname = name[i-1] lastname[i-1]\n",
    "#     updated_name.append(jointname)\n"
   ]
  },
  {
   "cell_type": "code",
   "execution_count": 98,
   "metadata": {},
   "outputs": [
    {
     "data": {
      "text/plain": [
       "651"
      ]
     },
     "execution_count": 98,
     "metadata": {},
     "output_type": "execute_result"
    }
   ],
   "source": [
    "year = []\n",
    "month = []\n",
    "day = []"
   ]
  },
  {
   "cell_type": "code",
   "execution_count": 100,
   "metadata": {},
   "outputs": [],
   "source": [
    "for i in range(1,b):\n",
    "    current_dob = []\n",
    "    current_dob = str(dob[i]).split(\"-\")\n",
    "    year.append(current_dob[0])\n",
    "    month.append(current_dob[1])\n",
    "    day.append(current_dob[2])"
   ]
  },
  {
   "cell_type": "code",
   "execution_count": 106,
   "metadata": {},
   "outputs": [],
   "source": [
    "updated_dob = ['DOB']\n",
    "for i in range(1,b):\n",
    "    jointdob = month[i-1] + \"/\" + day[i-1] + \"/\" + year[i-1]\n",
    "    updated_dob.append(jointdob)"
   ]
  },
  {
   "cell_type": "code",
   "execution_count": 124,
   "metadata": {},
   "outputs": [],
   "source": [
    "updated_ssn = ['SSN']"
   ]
  },
  {
   "cell_type": "code",
   "execution_count": 125,
   "metadata": {},
   "outputs": [],
   "source": [
    "for i in range(1,b):\n",
    "    current_ssn = []\n",
    "    current_ssn = str(ssn[i]).split(\"-\")\n",
    "    updated_ssn.append(current_ssn[2])"
   ]
  },
  {
   "cell_type": "code",
   "execution_count": 126,
   "metadata": {},
   "outputs": [],
   "source": [
    "for i in range(1,b):\n",
    "    updated_ssn[i] = \"***-**-\"+updated_ssn[i]"
   ]
  },
  {
   "cell_type": "code",
   "execution_count": 128,
   "metadata": {},
   "outputs": [
    {
     "data": {
      "text/plain": [
       "651"
      ]
     },
     "execution_count": 128,
     "metadata": {},
     "output_type": "execute_result"
    }
   ],
   "source": [
    "len(updated_ssn)"
   ]
  },
  {
   "cell_type": "code",
   "execution_count": 158,
   "metadata": {},
   "outputs": [],
   "source": [
    "us_state_abbrev = {'Alabama': 'AL','Alaska': 'AK','Arizona': 'AZ','Arkansas': 'AR','California': 'CA',\n",
    "'Colorado': 'CO','Connecticut': 'CT','Delaware': 'DE','Florida': 'FL','Georgia': 'GA','Hawaii': 'HI',\n",
    "'Idaho': 'ID','Illinois': 'IL','Indiana': 'IN','Iowa': 'IA','Kansas': 'KS','Kentucky': 'KY','Louisiana': 'LA',\n",
    "'Maine': 'ME','Maryland': 'MD','Massachusetts': 'MA','Michigan': 'MI','Minnesota': 'MN','Mississippi': 'MS',\n",
    "'Missouri': 'MO','Montana': 'MT','Nebraska': 'NE','Nevada': 'NV','New Hampshire': 'NH','New Jersey': 'NJ',\n",
    "'New Mexico': 'NM','New York': 'NY','North Carolina': 'NC','North Dakota': 'ND','Ohio': 'OH','Oklahoma': 'OK',\n",
    "'Oregon': 'OR','Pennsylvania': 'PA','Rhode Island': 'RI','South Carolina': 'SC','South Dakota': 'SD',\n",
    "'Tennessee': 'TN','Texas': 'TX','Utah': 'UT','Vermont': 'VT','Virginia': 'VA','Washington': 'WA','West Virginia': 'WV',\n",
    "'Wisconsin': 'WI','Wyoming': 'WY',}"
   ]
  },
  {
   "cell_type": "code",
   "execution_count": 159,
   "metadata": {},
   "outputs": [],
   "source": [
    "updated_state = ['State']\n",
    "\n",
    "for i in range(1,b):\n",
    "    updated_state.append(us_state_abbrev[(state[i])])"
   ]
  },
  {
   "cell_type": "code",
   "execution_count": 156,
   "metadata": {},
   "outputs": [],
   "source": [
    "output = open('updated_employee_data.csv', 'w')\n",
    "\n",
    "for i in range(0,b):\n",
    "    output.write(employee_id[i]+\",\")\n",
    "    output.write(updated_name[2*i]+\",\")\n",
    "    output.write(updated_name[2*i+1]+\",\")\n",
    "    output.write(updated_dob[i]+\",\")\n",
    "    output.write(updated_ssn[i]+\",\")\n",
    "    output.write(updated_state[i]+\",\\n\")\n",
    "\n",
    "output.close()\n",
    "\n"
   ]
  },
  {
   "cell_type": "code",
   "execution_count": null,
   "metadata": {},
   "outputs": [],
   "source": []
  }
 ],
 "metadata": {
  "kernelspec": {
   "display_name": "Python 3",
   "language": "python",
   "name": "python3"
  },
  "language_info": {
   "codemirror_mode": {
    "name": "ipython",
    "version": 3
   },
   "file_extension": ".py",
   "mimetype": "text/x-python",
   "name": "python",
   "nbconvert_exporter": "python",
   "pygments_lexer": "ipython3",
   "version": "3.7.1"
  }
 },
 "nbformat": 4,
 "nbformat_minor": 2
}
